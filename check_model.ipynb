{
 "cells": [
  {
   "cell_type": "code",
   "execution_count": null,
   "metadata": {},
   "outputs": [],
   "source": [
    "#!pip install jiwer\n",
    "#!pip install vosk"
   ]
  },
  {
   "cell_type": "code",
   "execution_count": 1,
   "metadata": {},
   "outputs": [],
   "source": [
    "import os\n",
    "import wave\n",
    "from vosk import Model, KaldiRecognizer, SetLogLevel\n",
    "import json\n",
    "import os\n",
    "import pickle"
   ]
  },
  {
   "cell_type": "code",
   "execution_count": 7,
   "metadata": {},
   "outputs": [],
   "source": [
    "def transcribe_vosk(file_path, model_path):\n",
    "\n",
    "    # https://alphacephei.com/vosk/\n",
    "    phrases_list = []\n",
    "\n",
    "    # read file\n",
    "    wf = wave.open(file_path, \"rb\")\n",
    "\n",
    "    # read model\n",
    "    model = Model(model_path)\n",
    "    rec = KaldiRecognizer(model, wf.getframerate())\n",
    "\n",
    "    # recognizing\n",
    "    while True:\n",
    "\n",
    "        conf_score = []\n",
    "\n",
    "        data = wf.readframes(4000)\n",
    "        if len(data) == 0:\n",
    "            break\n",
    "\n",
    "        if rec.AcceptWaveform(data):\n",
    "            accept = json.loads(rec.Result())\n",
    "            if accept['text'] !='':\n",
    "                #print(accept['text'])\n",
    "                phrases_list.append(accept['text'])\n",
    "    return phrases_list"
   ]
  },
  {
   "cell_type": "code",
   "execution_count": 3,
   "metadata": {},
   "outputs": [],
   "source": [
    "def get_files(path):\n",
    "    for root, dirs, files in os.walk(path):\n",
    "        files.sort()\n",
    "        return files"
   ]
  },
  {
   "cell_type": "code",
   "execution_count": 4,
   "metadata": {},
   "outputs": [],
   "source": [
    "def convert_file_v0(file_original, file_temp):\n",
    "    os_cmd \t= 'ffmpeg -i '+file_original+' -ab 64000 '+file_temp\n",
    "    try:\n",
    "        os.system(os_cmd)\n",
    "    except Exception as e:\n",
    "        print('make_file_splitted error:',str(e))    "
   ]
  },
  {
   "cell_type": "code",
   "execution_count": 5,
   "metadata": {},
   "outputs": [],
   "source": [
    "def convert_file(file_original, file_temp):\n",
    "    os_cmd \t= 'ffmpeg -i '+file_original+' -ab 64000 -ar 8000 '+file_temp\n",
    "    try:\n",
    "        os.system(os_cmd)\n",
    "    except Exception as e:\n",
    "        print('make_file_splitted error:',str(e))    "
   ]
  },
  {
   "cell_type": "markdown",
   "metadata": {},
   "source": [
    "### single test"
   ]
  },
  {
   "cell_type": "code",
   "execution_count": 17,
   "metadata": {},
   "outputs": [],
   "source": [
    "file_path = '/media/alex/nvme-a/word_2/audio_2021-07-16_16-13-07_2.wav'\n",
    "#file_path = '/media/alex/nvme-a/word_2/1626107912.954196.wav'\n",
    "convert_file(file_path, '/media/alex/nvme-a/word_2/test2.wav')"
   ]
  },
  {
   "cell_type": "code",
   "execution_count": 18,
   "metadata": {},
   "outputs": [
    {
     "name": "stdout",
     "output_type": "stream",
     "text": [
      "проверка связи чобота\n"
     ]
    }
   ],
   "source": [
    "# old model\n",
    "model_path = '/media/alex/nvme-a/vosk-model-ru-0.10/'\n",
    "#file_path = '/media/alex/nvme-a/word_2/audio_2021-07-16_16-13-07_2.wav'\n",
    "#file_path = '/media/alex/nvme-a/word_2/1626107912.954196.wav'\n",
    "#convert_file(file_path, '/media/alex/nvme-a/word_2/test2.wav')\n",
    "file_path = '/media/alex/nvme-a/word_2/test2.wav'\n",
    "phrases_list = transcribe_vosk(file_path, model_path)"
   ]
  },
  {
   "cell_type": "code",
   "execution_count": 19,
   "metadata": {},
   "outputs": [],
   "source": [
    "# new model\n",
    "model_path = '/media/alex/nvme-a/model/'\n",
    "#file_path = '/media/alex/nvme-a/word_2/audio_2021-07-16_16-13-07_2.wav'\n",
    "file_path = '/media/alex/nvme-a/word_2/test2.wav'\n",
    "phrases_list = transcribe_vosk(file_path, model_path)"
   ]
  },
  {
   "cell_type": "code",
   "execution_count": 7,
   "metadata": {},
   "outputs": [
    {
     "data": {
      "text/plain": [
       "[]"
      ]
     },
     "execution_count": 7,
     "metadata": {},
     "output_type": "execute_result"
    }
   ],
   "source": [
    "phrases_list"
   ]
  },
  {
   "cell_type": "markdown",
   "metadata": {},
   "source": [
    "### batch test"
   ]
  },
  {
   "cell_type": "code",
   "execution_count": 44,
   "metadata": {},
   "outputs": [],
   "source": [
    "path = '/media/alex/nvme-a/word_4'\n",
    "model_path = '/media/alex/nvme-a/vosk-model-ru-0.10/'"
   ]
  },
  {
   "cell_type": "code",
   "execution_count": 45,
   "metadata": {},
   "outputs": [
    {
     "name": "stdout",
     "output_type": "stream",
     "text": [
      "/media/alex/nvme-a/word_4/tmp_1626874970.1219218.wav\n",
      "/media/alex/nvme-a/word_4/tmp_1625983849.904462.wav\n",
      "/media/alex/nvme-a/word_4/tmp_1625923309.895639.wav\n",
      "/media/alex/nvme-a/word_4/tmp_1626439830.1074034.wav\n",
      "/media/alex/nvme-a/word_4/tmp_1626765983.1172122.wav\n",
      "/media/alex/nvme-a/word_4/tmp_1627280766.1320951.wav\n"
     ]
    }
   ],
   "source": [
    "transcribations_0 = {}\n",
    "for root, subdirs, files in os.walk(path):\n",
    "    for file in files:\n",
    "        #convert_file(path+'/'+file, path+'/tmp_'+file)\n",
    "        #print(path+'/tmp_'+file)\n",
    "        print(path+'/'+file)\n",
    "        transcribations_0[file] = transcribe_vosk(path+'/'+file, model_path)"
   ]
  },
  {
   "cell_type": "code",
   "execution_count": 51,
   "metadata": {},
   "outputs": [],
   "source": [
    "#[(f[0]+' '+f[1])[:50] for f in transcribations_0.values()]"
   ]
  },
  {
   "cell_type": "code",
   "execution_count": 47,
   "metadata": {},
   "outputs": [],
   "source": [
    "path = '/media/alex/nvme-a/word_4'\n",
    "model_path = '/media/alex/nvme-a/model/'"
   ]
  },
  {
   "cell_type": "code",
   "execution_count": 48,
   "metadata": {},
   "outputs": [
    {
     "name": "stdout",
     "output_type": "stream",
     "text": [
      "/media/alex/nvme-a/word_4/tmp_1626874970.1219218.wav\n",
      "/media/alex/nvme-a/word_4/tmp_1625983849.904462.wav\n",
      "/media/alex/nvme-a/word_4/tmp_1625923309.895639.wav\n",
      "/media/alex/nvme-a/word_4/tmp_1626439830.1074034.wav\n",
      "/media/alex/nvme-a/word_4/tmp_1626765983.1172122.wav\n",
      "/media/alex/nvme-a/word_4/tmp_1627280766.1320951.wav\n"
     ]
    }
   ],
   "source": [
    "transcribations_1 = {}\n",
    "for root, subdirs, files in os.walk(path):\n",
    "    for file in files:\n",
    "        #convert_file(path+'/'+file, path+'/tmp_'+file)\n",
    "        #print(path+'/tmp_'+file)\n",
    "        print(path+'/'+file)\n",
    "        transcribations_1[file] = transcribe_vosk(path+'/'+file, model_path)"
   ]
  },
  {
   "cell_type": "code",
   "execution_count": 50,
   "metadata": {},
   "outputs": [],
   "source": [
    "#[(f[0]+' '+f[1])[:50] for f in transcribations_1.values()]"
   ]
  },
  {
   "cell_type": "code",
   "execution_count": 54,
   "metadata": {},
   "outputs": [],
   "source": [
    "with open ('ice_0.pickle', 'wb') as f:\n",
    "    pickle.dump(events, f)"
   ]
  },
  {
   "cell_type": "code",
   "execution_count": 46,
   "metadata": {},
   "outputs": [],
   "source": [
    "with open('data.pickle', 'rb') as f:\n",
    "    events = pickle.load(f)"
   ]
  }
 ],
 "metadata": {
  "kernelspec": {
   "display_name": "Python [conda env:root] *",
   "language": "python",
   "name": "conda-root-py"
  },
  "language_info": {
   "codemirror_mode": {
    "name": "ipython",
    "version": 3
   },
   "file_extension": ".py",
   "mimetype": "text/x-python",
   "name": "python",
   "nbconvert_exporter": "python",
   "pygments_lexer": "ipython3",
   "version": "3.7.3"
  }
 },
 "nbformat": 4,
 "nbformat_minor": 2
}
