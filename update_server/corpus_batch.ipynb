{
 "cells": [
  {
   "cell_type": "code",
   "execution_count": 3,
   "metadata": {},
   "outputs": [],
   "source": [
    "import os\n",
    "import pandas as pd"
   ]
  },
  {
   "cell_type": "code",
   "execution_count": 46,
   "metadata": {},
   "outputs": [
    {
     "name": "stdout",
     "output_type": "stream",
     "text": [
      "files ['corpus_batch_0.csv', 'corpus_batch_1.csv']\n",
      "./corpus_batch_0.csv\n",
      "./corpus_batch_1.csv\n"
     ]
    }
   ],
   "source": [
    "# read corpus\n",
    "path = './'\n",
    "files = [f for f in os.listdir(path) if f.startswith('corpus_batch_')]\n",
    "corpus = pd.DataFrame()\n",
    "print('files', files)\n",
    "for f in files:\n",
    "    print(path+f)\n",
    "    #corpus = corpus.append(pd.read_csv(path+f, index = False, header=1))\n",
    "    corpus = corpus.append(pd.read_csv(path+f))\n",
    "#corpus.columns = ['word']\n",
    "# drop duplicates\n",
    "corpus = corpus.drop_duplicates()\n",
    "# read words\n",
    "words = pd.read_csv(path+'words.txt', sep=\" \")\n",
    "words.columns = ['word', 'id']\n",
    "words.drop(['id'], axis=1, inplace=True)\n",
    "# drop contained in dictionary words\n",
    "corpus = corpus[~corpus.word.isin(words.word)]\n",
    "corpus.word = corpus.word.str.lower()"
   ]
  },
  {
   "cell_type": "code",
   "execution_count": 47,
   "metadata": {},
   "outputs": [
    {
     "data": {
      "text/html": [
       "<div>\n",
       "<style scoped>\n",
       "    .dataframe tbody tr th:only-of-type {\n",
       "        vertical-align: middle;\n",
       "    }\n",
       "\n",
       "    .dataframe tbody tr th {\n",
       "        vertical-align: top;\n",
       "    }\n",
       "\n",
       "    .dataframe thead th {\n",
       "        text-align: right;\n",
       "    }\n",
       "</style>\n",
       "<table border=\"1\" class=\"dataframe\">\n",
       "  <thead>\n",
       "    <tr style=\"text-align: right;\">\n",
       "      <th></th>\n",
       "      <th>word</th>\n",
       "    </tr>\n",
       "  </thead>\n",
       "  <tbody>\n",
       "    <tr>\n",
       "      <th>0</th>\n",
       "      <td>ватсап</td>\n",
       "    </tr>\n",
       "    <tr>\n",
       "      <th>1</th>\n",
       "      <td>заявочки</td>\n",
       "    </tr>\n",
       "    <tr>\n",
       "      <th>0</th>\n",
       "      <td>заплатили по квитанции</td>\n",
       "    </tr>\n",
       "    <tr>\n",
       "      <th>1</th>\n",
       "      <td>оплатили по квитанции</td>\n",
       "    </tr>\n",
       "  </tbody>\n",
       "</table>\n",
       "</div>"
      ],
      "text/plain": [
       "                     word\n",
       "0                  ватсап\n",
       "1                заявочки\n",
       "0  заплатили по квитанции\n",
       "1   оплатили по квитанции"
      ]
     },
     "execution_count": 47,
     "metadata": {},
     "output_type": "execute_result"
    }
   ],
   "source": [
    "corpus"
   ]
  }
 ],
 "metadata": {
  "kernelspec": {
   "display_name": "Python 3 (ipykernel)",
   "language": "python",
   "name": "python3"
  },
  "language_info": {
   "codemirror_mode": {
    "name": "ipython",
    "version": 3
   },
   "file_extension": ".py",
   "mimetype": "text/x-python",
   "name": "python",
   "nbconvert_exporter": "python",
   "pygments_lexer": "ipython3",
   "version": "3.8.8"
  }
 },
 "nbformat": 4,
 "nbformat_minor": 4
}
