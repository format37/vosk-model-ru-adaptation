{
 "cells": [
  {
   "cell_type": "code",
   "execution_count": 2,
   "metadata": {},
   "outputs": [],
   "source": [
    "import pandas as pd"
   ]
  },
  {
   "cell_type": "markdown",
   "metadata": {},
   "source": [
    "### read"
   ]
  },
  {
   "cell_type": "code",
   "execution_count": 9,
   "metadata": {},
   "outputs": [
    {
     "data": {
      "text/html": [
       "<div>\n",
       "<style scoped>\n",
       "    .dataframe tbody tr th:only-of-type {\n",
       "        vertical-align: middle;\n",
       "    }\n",
       "\n",
       "    .dataframe tbody tr th {\n",
       "        vertical-align: top;\n",
       "    }\n",
       "\n",
       "    .dataframe thead th {\n",
       "        text-align: right;\n",
       "    }\n",
       "</style>\n",
       "<table border=\"1\" class=\"dataframe\">\n",
       "  <thead>\n",
       "    <tr style=\"text-align: right;\">\n",
       "      <th></th>\n",
       "      <th>word</th>\n",
       "    </tr>\n",
       "  </thead>\n",
       "  <tbody>\n",
       "    <tr>\n",
       "      <th>0</th>\n",
       "      <td>а a0</td>\n",
       "    </tr>\n",
       "    <tr>\n",
       "      <th>1</th>\n",
       "      <td>а a1</td>\n",
       "    </tr>\n",
       "    <tr>\n",
       "      <th>2</th>\n",
       "      <td>а-а a0 a1</td>\n",
       "    </tr>\n",
       "    <tr>\n",
       "      <th>3</th>\n",
       "      <td>а-а-а a0 a0 a1</td>\n",
       "    </tr>\n",
       "    <tr>\n",
       "      <th>4</th>\n",
       "      <td>а-а-а-а a0 a0 a0 a1</td>\n",
       "    </tr>\n",
       "    <tr>\n",
       "      <th>...</th>\n",
       "      <td>...</td>\n",
       "    </tr>\n",
       "    <tr>\n",
       "      <th>720763</th>\n",
       "      <td>ёшкин o1 sh kj i0 n</td>\n",
       "    </tr>\n",
       "    <tr>\n",
       "      <th>720764</th>\n",
       "      <td>ёще j o1 sch e0</td>\n",
       "    </tr>\n",
       "    <tr>\n",
       "      <th>720765</th>\n",
       "      <td>ёщё j o1 sch o1</td>\n",
       "    </tr>\n",
       "    <tr>\n",
       "      <th>720766</th>\n",
       "      <td>ёъ j o1</td>\n",
       "    </tr>\n",
       "    <tr>\n",
       "      <th>720767</th>\n",
       "      <td>ёё j o1 j o1</td>\n",
       "    </tr>\n",
       "  </tbody>\n",
       "</table>\n",
       "<p>720768 rows × 1 columns</p>\n",
       "</div>"
      ],
      "text/plain": [
       "                       word\n",
       "0                      а a0\n",
       "1                      а a1\n",
       "2                 а-а a0 a1\n",
       "3            а-а-а a0 a0 a1\n",
       "4       а-а-а-а a0 a0 a0 a1\n",
       "...                     ...\n",
       "720763  ёшкин o1 sh kj i0 n\n",
       "720764      ёще j o1 sch e0\n",
       "720765      ёщё j o1 sch o1\n",
       "720766              ёъ j o1\n",
       "720767         ёё j o1 j o1\n",
       "\n",
       "[720768 rows x 1 columns]"
      ]
     },
     "execution_count": 9,
     "metadata": {},
     "output_type": "execute_result"
    }
   ],
   "source": [
    "dicts = []\n",
    "dicts.append(pd.read_csv('ru.dic.old', header = None))\n",
    "dicts[0].columns = ['word']\n",
    "dicts[0]"
   ]
  },
  {
   "cell_type": "code",
   "execution_count": 10,
   "metadata": {},
   "outputs": [
    {
     "data": {
      "text/html": [
       "<div>\n",
       "<style scoped>\n",
       "    .dataframe tbody tr th:only-of-type {\n",
       "        vertical-align: middle;\n",
       "    }\n",
       "\n",
       "    .dataframe tbody tr th {\n",
       "        vertical-align: top;\n",
       "    }\n",
       "\n",
       "    .dataframe thead th {\n",
       "        text-align: right;\n",
       "    }\n",
       "</style>\n",
       "<table border=\"1\" class=\"dataframe\">\n",
       "  <thead>\n",
       "    <tr style=\"text-align: right;\">\n",
       "      <th></th>\n",
       "      <th>word</th>\n",
       "    </tr>\n",
       "  </thead>\n",
       "  <tbody>\n",
       "    <tr>\n",
       "      <th>0</th>\n",
       "      <td>-ал\\ta0 l</td>\n",
       "    </tr>\n",
       "    <tr>\n",
       "      <th>1</th>\n",
       "      <td>-ещ\\tj e0 sch</td>\n",
       "    </tr>\n",
       "    <tr>\n",
       "      <th>2</th>\n",
       "      <td>-нибудь\\tnj i0 b u0 dj</td>\n",
       "    </tr>\n",
       "    <tr>\n",
       "      <th>3</th>\n",
       "      <td>а-а-а-а-а-а\\ta0 a0 a0 a0 a0 a0</td>\n",
       "    </tr>\n",
       "    <tr>\n",
       "      <th>4</th>\n",
       "      <td>а-ай\\ta0 a0 j</td>\n",
       "    </tr>\n",
       "    <tr>\n",
       "      <th>...</th>\n",
       "      <td>...</td>\n",
       "    </tr>\n",
       "    <tr>\n",
       "      <th>83746</th>\n",
       "      <td>яшьли\\tj a0 sh lj i0</td>\n",
       "    </tr>\n",
       "    <tr>\n",
       "      <th>83747</th>\n",
       "      <td>яшэт\\tj a0 sh e0 t</td>\n",
       "    </tr>\n",
       "    <tr>\n",
       "      <th>83748</th>\n",
       "      <td>ященков\\tj a0 sch e0 n k o0 v</td>\n",
       "    </tr>\n",
       "    <tr>\n",
       "      <th>83749</th>\n",
       "      <td>яэс\\tj a0 e0 s</td>\n",
       "    </tr>\n",
       "    <tr>\n",
       "      <th>83750</th>\n",
       "      <td>яяяяя\\tj a0 j a0 j a0 j a0 j a0</td>\n",
       "    </tr>\n",
       "  </tbody>\n",
       "</table>\n",
       "<p>83751 rows × 1 columns</p>\n",
       "</div>"
      ],
      "text/plain": [
       "                                  word\n",
       "0                            -ал\\ta0 l\n",
       "1                        -ещ\\tj e0 sch\n",
       "2               -нибудь\\tnj i0 b u0 dj\n",
       "3       а-а-а-а-а-а\\ta0 a0 a0 a0 a0 a0\n",
       "4                        а-ай\\ta0 a0 j\n",
       "...                                ...\n",
       "83746             яшьли\\tj a0 sh lj i0\n",
       "83747               яшэт\\tj a0 sh e0 t\n",
       "83748    ященков\\tj a0 sch e0 n k o0 v\n",
       "83749                   яэс\\tj a0 e0 s\n",
       "83750  яяяяя\\tj a0 j a0 j a0 j a0 j a0\n",
       "\n",
       "[83751 rows x 1 columns]"
      ]
     },
     "execution_count": 10,
     "metadata": {},
     "output_type": "execute_result"
    }
   ],
   "source": [
    "dicts.append(pd.read_csv('words.dic.new', header = None))\n",
    "dicts[1].columns = ['word']\n",
    "dicts[1]"
   ]
  },
  {
   "cell_type": "code",
   "execution_count": 12,
   "metadata": {},
   "outputs": [
    {
     "data": {
      "text/plain": [
       "720768"
      ]
     },
     "execution_count": 12,
     "metadata": {},
     "output_type": "execute_result"
    }
   ],
   "source": [
    "a_not_in_b = dicts[0][~dicts[0].word.isin(dicts[1].word)]\n",
    "len(a_not_in_b)"
   ]
  },
  {
   "cell_type": "code",
   "execution_count": 13,
   "metadata": {},
   "outputs": [
    {
     "data": {
      "text/plain": [
       "83751"
      ]
     },
     "execution_count": 13,
     "metadata": {},
     "output_type": "execute_result"
    }
   ],
   "source": [
    "b_not_in_a = dicts[1][~dicts[1].word.isin(dicts[0].word)]\n",
    "len(b_not_in_a)"
   ]
  },
  {
   "cell_type": "markdown",
   "metadata": {},
   "source": [
    "### merge"
   ]
  },
  {
   "cell_type": "code",
   "execution_count": 17,
   "metadata": {},
   "outputs": [],
   "source": [
    "merged = pd.concat([dicts[0], dicts[1]], axis=0)"
   ]
  },
  {
   "cell_type": "code",
   "execution_count": 18,
   "metadata": {},
   "outputs": [],
   "source": [
    "merged.sort_values(by=['word'], inplace = True)"
   ]
  },
  {
   "cell_type": "code",
   "execution_count": 19,
   "metadata": {},
   "outputs": [
    {
     "data": {
      "text/html": [
       "<div>\n",
       "<style scoped>\n",
       "    .dataframe tbody tr th:only-of-type {\n",
       "        vertical-align: middle;\n",
       "    }\n",
       "\n",
       "    .dataframe tbody tr th {\n",
       "        vertical-align: top;\n",
       "    }\n",
       "\n",
       "    .dataframe thead th {\n",
       "        text-align: right;\n",
       "    }\n",
       "</style>\n",
       "<table border=\"1\" class=\"dataframe\">\n",
       "  <thead>\n",
       "    <tr style=\"text-align: right;\">\n",
       "      <th></th>\n",
       "      <th>word</th>\n",
       "    </tr>\n",
       "  </thead>\n",
       "  <tbody>\n",
       "    <tr>\n",
       "      <th>0</th>\n",
       "      <td>-ал\\ta0 l</td>\n",
       "    </tr>\n",
       "    <tr>\n",
       "      <th>1</th>\n",
       "      <td>-ещ\\tj e0 sch</td>\n",
       "    </tr>\n",
       "    <tr>\n",
       "      <th>2</th>\n",
       "      <td>-нибудь\\tnj i0 b u0 dj</td>\n",
       "    </tr>\n",
       "    <tr>\n",
       "      <th>0</th>\n",
       "      <td>а a0</td>\n",
       "    </tr>\n",
       "    <tr>\n",
       "      <th>1</th>\n",
       "      <td>а a1</td>\n",
       "    </tr>\n",
       "    <tr>\n",
       "      <th>...</th>\n",
       "      <td>...</td>\n",
       "    </tr>\n",
       "    <tr>\n",
       "      <th>720763</th>\n",
       "      <td>ёшкин o1 sh kj i0 n</td>\n",
       "    </tr>\n",
       "    <tr>\n",
       "      <th>720764</th>\n",
       "      <td>ёще j o1 sch e0</td>\n",
       "    </tr>\n",
       "    <tr>\n",
       "      <th>720765</th>\n",
       "      <td>ёщё j o1 sch o1</td>\n",
       "    </tr>\n",
       "    <tr>\n",
       "      <th>720766</th>\n",
       "      <td>ёъ j o1</td>\n",
       "    </tr>\n",
       "    <tr>\n",
       "      <th>720767</th>\n",
       "      <td>ёё j o1 j o1</td>\n",
       "    </tr>\n",
       "  </tbody>\n",
       "</table>\n",
       "<p>804519 rows × 1 columns</p>\n",
       "</div>"
      ],
      "text/plain": [
       "                          word\n",
       "0                    -ал\\ta0 l\n",
       "1                -ещ\\tj e0 sch\n",
       "2       -нибудь\\tnj i0 b u0 dj\n",
       "0                         а a0\n",
       "1                         а a1\n",
       "...                        ...\n",
       "720763     ёшкин o1 sh kj i0 n\n",
       "720764         ёще j o1 sch e0\n",
       "720765         ёщё j o1 sch o1\n",
       "720766                 ёъ j o1\n",
       "720767            ёё j o1 j o1\n",
       "\n",
       "[804519 rows x 1 columns]"
      ]
     },
     "execution_count": 19,
     "metadata": {},
     "output_type": "execute_result"
    }
   ],
   "source": [
    "merged"
   ]
  },
  {
   "cell_type": "code",
   "execution_count": 39,
   "metadata": {},
   "outputs": [],
   "source": [
    "merged.to_csv('ru.dic.merged', header=False, index = False)"
   ]
  }
 ],
 "metadata": {
  "kernelspec": {
   "display_name": "Python 3 (ipykernel)",
   "language": "python",
   "name": "python3"
  },
  "language_info": {
   "codemirror_mode": {
    "name": "ipython",
    "version": 3
   },
   "file_extension": ".py",
   "mimetype": "text/x-python",
   "name": "python",
   "nbconvert_exporter": "python",
   "pygments_lexer": "ipython3",
   "version": "3.8.8"
  }
 },
 "nbformat": 4,
 "nbformat_minor": 4
}
